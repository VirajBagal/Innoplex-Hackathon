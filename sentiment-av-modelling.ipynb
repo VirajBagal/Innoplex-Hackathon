{
 "cells": [
  {
   "cell_type": "code",
   "execution_count": 1,
   "metadata": {
    "_cell_guid": "b1076dfc-b9ad-4769-8c92-a6c4dae69d19",
    "_uuid": "8f2839f25d086af736a60e9eeb907d3b93b6e0e5"
   },
   "outputs": [
    {
     "name": "stderr",
     "output_type": "stream",
     "text": [
      "Using TensorFlow backend.\n"
     ]
    },
    {
     "name": "stdout",
     "output_type": "stream",
     "text": [
      "['quoratextemb', 'innoplexusav']\n"
     ]
    }
   ],
   "source": [
    "# This Python 3 environment comes with many helpful analytics libraries installed\n",
    "# It is defined by the kaggle/python docker image: https://github.com/kaggle/docker-python\n",
    "# For example, here's several helpful packages to load in \n",
    "\n",
    "import numpy as np # linear algebra\n",
    "import pandas as pd # data processing, CSV file I/O (e.g. pd.read_csv)\n",
    "import string\n",
    "from sklearn.preprocessing import LabelEncoder\n",
    "from nltk.tokenize import word_tokenize\n",
    "# Input data files are available in the \"../input/\" directory.\n",
    "# For example, running this (by clicking run or pressing Shift+Enter) will list the files in the input directory\n",
    "from keras.layers import Dense,Bidirectional,CuDNNLSTM,CuDNNGRU,Flatten,Conv1D,Embedding,Dropout,BatchNormalization\n",
    "from keras.layers import LSTM,GRU,Activation,GlobalAveragePooling1D,GlobalMaxPooling1D,concatenate,SpatialDropout1D,Input\n",
    "from sklearn.preprocessing import LabelEncoder\n",
    "from keras.preprocessing.text import Tokenizer\n",
    "from keras.callbacks import ModelCheckpoint,Callback, EarlyStopping\n",
    "from keras.preprocessing.sequence import pad_sequences\n",
    "from keras.utils import to_categorical\n",
    "from keras.models import Model, load_model\n",
    "from keras.optimizers import Adam\n",
    "import keras.backend as K\n",
    "from keras import initializers, regularizers, constraints, optimizers, layers, callbacks\n",
    "import gensim.models.keyedvectors as word2vec\n",
    "from tqdm import tqdm\n",
    "tqdm.pandas()\n",
    "import os\n",
    "from nltk.corpus import stopwords\n",
    "from imblearn.over_sampling import SMOTE\n",
    "print(os.listdir(\"../input\"))\n",
    "\n",
    "# Any results you write to the current directory are saved as output."
   ]
  },
  {
   "cell_type": "code",
   "execution_count": 2,
   "metadata": {
    "_cell_guid": "79c7e3d0-c299-4dcb-8224-4455121ee9b0",
    "_uuid": "d629ff2d2480ee46fbb7e2d37f6b5fab8052498a"
   },
   "outputs": [],
   "source": [
    "# def load_embed(file):\n",
    "#     def get_coefs(word,*arr): \n",
    "#         return word, np.asarray(arr, dtype='float32')\n",
    "    \n",
    "#     if file == '../input/quoratextemb/embeddings/wiki-news-300d-1M/wiki-news-300d-1M.vec':\n",
    "#         embeddings_index = dict(get_coefs(*o.split(\" \")) for o in open(file) if len(o)>100)\n",
    "#     else:\n",
    "#         embeddings_index = dict(get_coefs(*o.split(\" \")) for o in open(file, encoding='latin'))\n",
    "        \n",
    "#     return embeddings_index"
   ]
  },
  {
   "cell_type": "code",
   "execution_count": 3,
   "metadata": {},
   "outputs": [],
   "source": [
    "paragram_path='../input/quoratextemb/embeddings/paragram_300_sl999/paragram_300_sl999.txt'"
   ]
  },
  {
   "cell_type": "code",
   "execution_count": 4,
   "metadata": {},
   "outputs": [],
   "source": [
    "glove_path='../input/quoratextemb/embeddings/glove.840B.300d/glove.840B.300d.txt'"
   ]
  },
  {
   "cell_type": "code",
   "execution_count": 5,
   "metadata": {},
   "outputs": [],
   "source": [
    "fasttext_path='../input/quoratextemb/embeddings/wiki-news-300d-1M/wiki-news-300d-1M.vec'"
   ]
  },
  {
   "cell_type": "code",
   "execution_count": 6,
   "metadata": {},
   "outputs": [],
   "source": [
    "traindf=pd.read_csv('../input/innoplexusav/train.csv')\n",
    "testdf=pd.read_csv('../input/innoplexusav/test.csv')"
   ]
  },
  {
   "cell_type": "code",
   "execution_count": 7,
   "metadata": {},
   "outputs": [
    {
     "data": {
      "text/plain": [
       "<matplotlib.axes._subplots.AxesSubplot at 0x7fe175bf21d0>"
      ]
     },
     "execution_count": 7,
     "metadata": {},
     "output_type": "execute_result"
    },
    {
     "data": {
      "image/png": "[encoded data removed]",
      "text/plain": [
       "<Figure size 432x288 with 1 Axes>"
      ]
     },
     "metadata": {
      "needs_background": "light"
     },
     "output_type": "display_data"
    }
   ],
   "source": [
    "traindf.sentiment.value_counts().plot.bar()"
   ]
  },
  {
   "cell_type": "code",
   "execution_count": 8,
   "metadata": {},
   "outputs": [],
   "source": [
    "# text_0=traindf[traindf['sentiment']==0].sample(n=1500,random_state=5,replace=True)\n",
    "# text_2=traindf[traindf['sentiment']==2].sample(n=1500,random_state=5)\n",
    "# text_1=traindf[traindf['sentiment']==1].sample(n=1500,random_state=5,replace=True)\n",
    "\n",
    "# traindf=pd.concat([text_0,text_1,text_2],axis=0,ignore_index=True)\n",
    "# traindf=traindf.sample(frac=1).reset_index(drop=True)"
   ]
  },
  {
   "cell_type": "code",
   "execution_count": 9,
   "metadata": {},
   "outputs": [
    {
     "name": "stderr",
     "output_type": "stream",
     "text": [
      "/opt/conda/lib/python3.6/site-packages/ipykernel_launcher.py:2: FutureWarning: Sorting because non-concatenation axis is not aligned. A future version\n",
      "of pandas will change to not sort by default.\n",
      "\n",
      "To accept the future behavior, pass 'sort=False'.\n",
      "\n",
      "To retain the current behavior and silence the warning, pass 'sort=True'.\n",
      "\n",
      "  \n"
     ]
    }
   ],
   "source": [
    "ntrain=traindf.shape[0]\n",
    "data=pd.concat([traindf,testdf],axis=0,ignore_index=True)"
   ]
  },
  {
   "cell_type": "code",
   "execution_count": 10,
   "metadata": {},
   "outputs": [],
   "source": [
    "# stop_words=set(stopwords.words('english'))\n",
    "\n",
    "# def clean_text(row):\n",
    "#     tokens=word_tokenize(row)\n",
    "#     filtered_text=[word.lower() for word in tokens if ((word.lower() not in (string.punctuation + '“”’')) & (word.lower() not in stop_words))]\n",
    "#     return ' '.join(filtered_text)"
   ]
  },
  {
   "cell_type": "code",
   "execution_count": 11,
   "metadata": {},
   "outputs": [],
   "source": [
    "# data['text']=data['text'].apply(lambda x: clean_text(x))"
   ]
  },
  {
   "cell_type": "code",
   "execution_count": 12,
   "metadata": {},
   "outputs": [],
   "source": [
    "def build_vocab(sentences):\n",
    "    vocab={}\n",
    "    for sentence in tqdm(sentences):\n",
    "        for word in sentence:\n",
    "            try:\n",
    "                vocab[word]+=1\n",
    "            except KeyError:\n",
    "                vocab[word]=1\n",
    "    return vocab"
   ]
  },
  {
   "cell_type": "code",
   "execution_count": 13,
   "metadata": {},
   "outputs": [],
   "source": [
    "# sentences=data['text'].progress_apply(lambda x: x.split()).values\n",
    "# vocab=build_vocab(sentences)\n",
    "\n",
    "# print({k:vocab[k] for k in list(vocab.keys())[:5]})"
   ]
  },
  {
   "cell_type": "code",
   "execution_count": 14,
   "metadata": {},
   "outputs": [],
   "source": [
    "# def coverage(vocab,embedding_index):\n",
    "#     intersection={}\n",
    "#     i=0\n",
    "#     oov={}\n",
    "#     o=0\n",
    "    \n",
    "#     for word in tqdm(vocab.keys()):\n",
    "#         try:\n",
    "#             intersection[word]=embedding_index[word]\n",
    "#             i+=vocab[word]\n",
    "#         except:\n",
    "#             oov[word]=vocab[word]\n",
    "#             o+=vocab[word]\n",
    "#     print(f'Embeddings found for {len(intersection)*100/len(vocab)} of vocab')\n",
    "#     print(f'Embeddings found for {i*100/(i+o)} of text')\n",
    "#     oov=sorted(oov.items(),key=lambda x:x[1],reverse=True)\n",
    "#     return oov"
   ]
  },
  {
   "cell_type": "code",
   "execution_count": 15,
   "metadata": {},
   "outputs": [],
   "source": [
    "# paragram_oov=coverage(vocab,paragram_index)"
   ]
  },
  {
   "cell_type": "code",
   "execution_count": 16,
   "metadata": {},
   "outputs": [],
   "source": [
    "data['lowered_text']=data['text'].apply(lambda x: x.lower())\n",
    "# sentences=data['lowered_text'].progress_apply(lambda x: x.split()).values\n",
    "# lowered_vocab=build_vocab(sentences)"
   ]
  },
  {
   "cell_type": "code",
   "execution_count": 17,
   "metadata": {},
   "outputs": [],
   "source": [
    "# paragram_oov=coverage(lowered_vocab,paragram_index)"
   ]
  },
  {
   "cell_type": "code",
   "execution_count": 18,
   "metadata": {},
   "outputs": [
    {
     "name": "stderr",
     "output_type": "stream",
     "text": [
      "100%|██████████| 8203/8203 [00:00<00:00, 25546.33it/s]\n",
      "100%|██████████| 8203/8203 [00:00<00:00, 12006.46it/s]\n"
     ]
    }
   ],
   "source": [
    "sentences=data['text'].progress_apply(lambda x: x.split()).values\n",
    "vocab=build_vocab(sentences)"
   ]
  },
  {
   "cell_type": "code",
   "execution_count": 19,
   "metadata": {},
   "outputs": [],
   "source": [
    "def add_lower(embedding, vocab):\n",
    "    count = 0\n",
    "    for word in vocab:\n",
    "        if word in embedding and word.lower() not in embedding:  \n",
    "            embedding[word.lower()] = embedding[word]\n",
    "            count += 1\n",
    "    print(f\"Added {count} words to embedding\")"
   ]
  },
  {
   "cell_type": "code",
   "execution_count": 20,
   "metadata": {},
   "outputs": [],
   "source": [
    "# add_lower(paragram_index, vocab)\n",
    "# add_lower(glove_index,vocab)\n",
    "# add_lower(fasttext_index,vocab)"
   ]
  },
  {
   "cell_type": "code",
   "execution_count": 21,
   "metadata": {},
   "outputs": [],
   "source": [
    "# paragram_oov=coverage(lowered_vocab,paragram_index)"
   ]
  },
  {
   "cell_type": "code",
   "execution_count": 22,
   "metadata": {},
   "outputs": [],
   "source": [
    "contraction_mapping = {\"ain't\": \"is not\", \"aren't\": \"are not\",\"can't\": \"cannot\", \"'cause\": \"because\", \"could've\": \"could have\",\n",
    "                       \"couldn't\": \"could not\", \"didn't\": \"did not\",  \"doesn't\": \"does not\", \"don't\": \"do not\", \"hadn't\": \"had not\",\n",
    "                       \"hasn't\": \"has not\", \"haven't\": \"have not\", \"he'd\": \"he would\",\"he'll\": \"he will\", \"he's\": \"he is\", \n",
    "                       \"how'd\": \"how did\", \"how'd'y\": \"how do you\", \"how'll\": \"how will\", \"how's\": \"how is\",  \"I'd\": \"I would\",\n",
    "                       \"I'd've\": \"I would have\", \"I'll\": \"I will\", \"I'll've\": \"I will have\",\"I'm\": \"I am\", \"I've\": \"I have\",\n",
    "                       \"i'd\": \"i would\", \"i'd've\": \"i would have\", \"i'll\": \"i will\",  \"i'll've\": \"i will have\",\"i'm\": \"i am\",\n",
    "                       \"i've\": \"i have\", \"isn't\": \"is not\", \"it'd\": \"it would\", \"it'd've\": \"it would have\", \"it'll\": \"it will\",\n",
    "                       \"it'll've\": \"it will have\",\"it's\": \"it is\", \"let's\": \"let us\", \"ma'am\": \"madam\", \"mayn't\": \"may not\",\n",
    "                       \"might've\": \"might have\",\"mightn't\": \"might not\",\"mightn't've\": \"might not have\", \"must've\": \"must have\",\n",
    "                       \"mustn't\": \"must not\", \"mustn't've\": \"must not have\", \"needn't\": \"need not\", \"needn't've\": \"need not have\",\n",
    "                       \"o'clock\": \"of the clock\", \"oughtn't\": \"ought not\", \"oughtn't've\": \"ought not have\", \"shan't\": \"shall not\", \n",
    "                       \"sha'n't\": \"shall not\", \"shan't've\": \"shall not have\", \"she'd\": \"she would\", \"she'd've\": \"she would have\",\n",
    "                       \"she'll\": \"she will\", \"she'll've\": \"she will have\", \"she's\": \"she is\", \"should've\": \"should have\",\n",
    "                       \"shouldn't\": \"should not\", \"shouldn't've\": \"should not have\", \"so've\": \"so have\",\"so's\": \"so as\",\n",
    "                       \"this's\": \"this is\",\"that'd\": \"that would\", \"that'd've\": \"that would have\", \"that's\": \"that is\",\n",
    "                       \"there'd\": \"there would\", \"there'd've\": \"there would have\", \"there's\": \"there is\", \"here's\": \"here is\",\n",
    "                       \"they'd\": \"they would\", \"they'd've\": \"they would have\", \"they'll\": \"they will\", \"they'll've\": \"they will have\",\n",
    "                       \"they're\": \"they are\", \"they've\": \"they have\", \"to've\": \"to have\", \"wasn't\": \"was not\", \"we'd\": \"we would\",\n",
    "                       \"we'd've\": \"we would have\", \"we'll\": \"we will\", \"we'll've\": \"we will have\", \"we're\": \"we are\", \"we've\": \"we have\",\n",
    "                       \"weren't\": \"were not\", \"what'll\": \"what will\", \"what'll've\": \"what will have\", \"what're\": \"what are\", \n",
    "                       \"what's\": \"what is\", \"what've\": \"what have\", \"when's\": \"when is\", \"when've\": \"when have\", \"where'd\": \"where did\",\n",
    "                       \"where's\": \"where is\", \"where've\": \"where have\", \"who'll\": \"who will\", \"who'll've\": \"who will have\",\n",
    "                       \"who's\": \"who is\", \"who've\": \"who have\", \"why's\": \"why is\", \"why've\": \"why have\", \"will've\": \"will have\",\n",
    "                       \"won't\": \"will not\", \"won't've\": \"will not have\", \"would've\": \"would have\", \"wouldn't\": \"would not\",\n",
    "                       \"wouldn't've\": \"would not have\", \"y'all\": \"you all\", \"y'all'd\": \"you all would\",\"y'all'd've\": \"you all would have\",\n",
    "                       \"y'all're\": \"you all are\",\"y'all've\": \"you all have\",\"you'd\": \"you would\", \"you'd've\": \"you would have\",\n",
    "                       \"you'll\": \"you will\", \"you'll've\": \"you will have\", \"you're\": \"you are\", \"you've\": \"you have\" }"
   ]
  },
  {
   "cell_type": "code",
   "execution_count": 23,
   "metadata": {},
   "outputs": [],
   "source": [
    "# def known_contractions(embed):\n",
    "#     known = []\n",
    "#     for contract in contraction_mapping:\n",
    "#         if contract in embed:\n",
    "#             known.append(contract)\n",
    "#     return known"
   ]
  },
  {
   "cell_type": "code",
   "execution_count": 24,
   "metadata": {},
   "outputs": [],
   "source": [
    "# print(known_contractions(paragram_index))"
   ]
  },
  {
   "cell_type": "code",
   "execution_count": 25,
   "metadata": {},
   "outputs": [],
   "source": [
    "def clean_contractions(text, mapping):\n",
    "    specials = [\"’\", \"‘\", \"´\", \"`\"]\n",
    "    for s in specials:\n",
    "        text = text.replace(s, \"'\")\n",
    "    text = ' '.join([mapping[t] if t in mapping else t for t in text.split(\" \")])\n",
    "    return text"
   ]
  },
  {
   "cell_type": "code",
   "execution_count": 26,
   "metadata": {},
   "outputs": [],
   "source": [
    "data['treated_text'] = data['lowered_text'].apply(lambda x: clean_contractions(x, contraction_mapping))"
   ]
  },
  {
   "cell_type": "code",
   "execution_count": 27,
   "metadata": {},
   "outputs": [],
   "source": [
    "# sentences=data['treated_text'].progress_apply(lambda x: x.split()).values\n",
    "# vocab = build_vocab(sentences)\n",
    "# oov_paragram = coverage(vocab, paragram_index)"
   ]
  },
  {
   "cell_type": "code",
   "execution_count": 28,
   "metadata": {},
   "outputs": [],
   "source": [
    "punct = \"/-'?!.,#$%\\'()*+-/:;<=>@[\\\\]^_`{|}~\" + '\"\"“”’' + '∞θ÷α•à−β∅³π‘₹´°£€\\×™√²—–&'"
   ]
  },
  {
   "cell_type": "code",
   "execution_count": 29,
   "metadata": {},
   "outputs": [],
   "source": [
    "def unknown_punct(embed, punct):\n",
    "    unknown = ''\n",
    "    for p in punct:\n",
    "        if p not in embed:\n",
    "            unknown += p\n",
    "            unknown += ' '\n",
    "    return unknown"
   ]
  },
  {
   "cell_type": "code",
   "execution_count": 30,
   "metadata": {},
   "outputs": [],
   "source": [
    "# print(unknown_punct(paragram_index, punct))"
   ]
  },
  {
   "cell_type": "code",
   "execution_count": 31,
   "metadata": {},
   "outputs": [],
   "source": [
    "punct_mapping = {\"‘\": \"'\", \"₹\": \"e\", \"´\": \"'\", \"°\": \"\", \"€\": \"e\", \"™\": \"tm\", \"√\": \" sqrt \", \"×\": \"x\", \"²\": \"2\", \"—\": \"-\", \"–\": \"-\",\n",
    "                 \"’\": \"'\", \"_\": \"-\", \"`\": \"'\", '“': '\"', '”': '\"', '“': '\"', \"£\": \"e\", '∞': 'infinity', 'θ': 'theta', '÷': '/', \n",
    "                 'α': 'alpha', '•': '.', 'à': 'a', '−': '-', 'β': 'beta', '∅': '', '³': '3', 'π': 'pi', '►':' ','®':'registered trademark ',\n",
    "                 'â':'a','»':' ','±':'+ -','âe':'e','1â':' ','≥':'> =','‡':'reference mark','🙂':'smile','2â':' ','·':'-',\n",
    "                 '†':'reference mark','rebif®':'rebif','©':'copyright trademark','≥6':'> = 6','gilenya®':'gilenya','§':' ','8â':' ',\n",
    "                }"
   ]
  },
  {
   "cell_type": "code",
   "execution_count": 32,
   "metadata": {},
   "outputs": [],
   "source": [
    "def clean_special_chars(text, punct, mapping):\n",
    "    for p in mapping:\n",
    "        text = text.replace(p, mapping[p])\n",
    "    \n",
    "    for p in punct:\n",
    "        text = text.replace(p, f' {p} ')\n",
    "    \n",
    "    specials = {'\\u200b': ' ', '…': ' ... ', '\\ufeff': '', 'करना': '', 'है': ''}  # Other special characters that I have to deal with in last\n",
    "    for s in specials:\n",
    "        text = text.replace(s, specials[s])\n",
    "    \n",
    "    return text"
   ]
  },
  {
   "cell_type": "code",
   "execution_count": 33,
   "metadata": {},
   "outputs": [],
   "source": [
    "data['treated_text'] = data['treated_text'].apply(lambda x: clean_special_chars(x, punct, punct_mapping))"
   ]
  },
  {
   "cell_type": "code",
   "execution_count": 34,
   "metadata": {},
   "outputs": [],
   "source": [
    "# sentences=data['treated_text'].progress_apply(lambda x: x.split()).values\n",
    "# vocab = build_vocab(sentences)\n",
    "# oov_paragram = coverage(vocab, paragram_index)"
   ]
  },
  {
   "cell_type": "code",
   "execution_count": 35,
   "metadata": {},
   "outputs": [],
   "source": [
    "# oov_paragram[:100]"
   ]
  },
  {
   "cell_type": "code",
   "execution_count": 36,
   "metadata": {},
   "outputs": [],
   "source": [
    "# data['num_words']=data['text'].progress_apply(lambda x: len(x.split()))\n",
    "# data['num_sentences']=data['text'].progress_apply(lambda x: len(x.split('.')))\n"
   ]
  },
  {
   "cell_type": "code",
   "execution_count": 37,
   "metadata": {},
   "outputs": [],
   "source": [
    "# def count_unique_words(text):\n",
    "#     tokens=word_tokenize(text)\n",
    "#     unique_words=[word for word in tokens if word.lower() not in paragram_index]\n",
    "#     return len(unique_words)"
   ]
  },
  {
   "cell_type": "code",
   "execution_count": 38,
   "metadata": {},
   "outputs": [],
   "source": [
    "# def count_punctuations(text):\n",
    "#     tokens=word_tokenize(text)\n",
    "#     punctuations=[word for word in tokens if word.lower() in punct]\n",
    "#     return len(punctuations)"
   ]
  },
  {
   "cell_type": "code",
   "execution_count": 39,
   "metadata": {},
   "outputs": [],
   "source": [
    "# data['num_unique_words']=data['text'].progress_apply(lambda x: count_unique_words(x) )\n",
    "# data['num_punctuation']=data['text'].progress_apply(lambda x: count_punctuations(x))"
   ]
  },
  {
   "cell_type": "code",
   "execution_count": 40,
   "metadata": {},
   "outputs": [],
   "source": [
    "# def num_capital_letters(text):\n",
    "#     tokens=word_tokenize(text)\n",
    "#     capital=[word for word in tokens if word[0].isupper()]\n",
    "#     return len(capital)"
   ]
  },
  {
   "cell_type": "code",
   "execution_count": 41,
   "metadata": {},
   "outputs": [],
   "source": [
    "# data['num_capital']=data['text'].progress_apply(lambda x: num_capital_letters(x))"
   ]
  },
  {
   "cell_type": "code",
   "execution_count": 42,
   "metadata": {},
   "outputs": [
    {
     "data": {
      "text/html": [
       "<div>\n",
       "<style scoped>\n",
       "    .dataframe tbody tr th:only-of-type {\n",
       "        vertical-align: middle;\n",
       "    }\n",
       "\n",
       "    .dataframe tbody tr th {\n",
       "        vertical-align: top;\n",
       "    }\n",
       "\n",
       "    .dataframe thead th {\n",
       "        text-align: right;\n",
       "    }\n",
       "</style>\n",
       "<table border=\"1\" class=\"dataframe\">\n",
       "  <thead>\n",
       "    <tr style=\"text-align: right;\">\n",
       "      <th></th>\n",
       "      <th>drug</th>\n",
       "      <th>sentiment</th>\n",
       "      <th>text</th>\n",
       "      <th>unique_hash</th>\n",
       "      <th>lowered_text</th>\n",
       "      <th>treated_text</th>\n",
       "    </tr>\n",
       "  </thead>\n",
       "  <tbody>\n",
       "    <tr>\n",
       "      <th>0</th>\n",
       "      <td>gilenya</td>\n",
       "      <td>2.0</td>\n",
       "      <td>Autoimmune diseases tend to come in clusters. ...</td>\n",
       "      <td>2e180be4c9214c1f5ab51fd8cc32bc80c9f612e0</td>\n",
       "      <td>autoimmune diseases tend to come in clusters. ...</td>\n",
       "      <td>autoimmune diseases tend to come in clusters ....</td>\n",
       "    </tr>\n",
       "    <tr>\n",
       "      <th>1</th>\n",
       "      <td>gilenya</td>\n",
       "      <td>2.0</td>\n",
       "      <td>I can completely understand why you’d want to ...</td>\n",
       "      <td>9eba8f80e7e20f3a2f48685530748fbfa95943e4</td>\n",
       "      <td>i can completely understand why you’d want to ...</td>\n",
       "      <td>i can completely understand why you would want...</td>\n",
       "    </tr>\n",
       "    <tr>\n",
       "      <th>2</th>\n",
       "      <td>fingolimod</td>\n",
       "      <td>2.0</td>\n",
       "      <td>Interesting that it only targets S1P-1/5 recep...</td>\n",
       "      <td>fe809672251f6bd0d986e00380f48d047c7e7b76</td>\n",
       "      <td>interesting that it only targets s1p-1/5 recep...</td>\n",
       "      <td>interesting that it only targets s1p  -  1  / ...</td>\n",
       "    </tr>\n",
       "    <tr>\n",
       "      <th>3</th>\n",
       "      <td>ocrevus</td>\n",
       "      <td>2.0</td>\n",
       "      <td>Very interesting, grand merci. Now I wonder wh...</td>\n",
       "      <td>bd22104dfa9ec80db4099523e03fae7a52735eb6</td>\n",
       "      <td>very interesting, grand merci. now i wonder wh...</td>\n",
       "      <td>very interesting ,  grand merci .  now i wonde...</td>\n",
       "    </tr>\n",
       "    <tr>\n",
       "      <th>4</th>\n",
       "      <td>gilenya</td>\n",
       "      <td>1.0</td>\n",
       "      <td>Hi everybody, My latest MRI results for Brain ...</td>\n",
       "      <td>b227688381f9b25e5b65109dd00f7f895e838249</td>\n",
       "      <td>hi everybody, my latest mri results for brain ...</td>\n",
       "      <td>hi everybody ,  my latest mri results for brai...</td>\n",
       "    </tr>\n",
       "  </tbody>\n",
       "</table>\n",
       "</div>"
      ],
      "text/plain": [
       "         drug  sentiment                                               text  \\\n",
       "0     gilenya        2.0  Autoimmune diseases tend to come in clusters. ...   \n",
       "1     gilenya        2.0  I can completely understand why you’d want to ...   \n",
       "2  fingolimod        2.0  Interesting that it only targets S1P-1/5 recep...   \n",
       "3     ocrevus        2.0  Very interesting, grand merci. Now I wonder wh...   \n",
       "4     gilenya        1.0  Hi everybody, My latest MRI results for Brain ...   \n",
       "\n",
       "                                unique_hash  \\\n",
       "0  2e180be4c9214c1f5ab51fd8cc32bc80c9f612e0   \n",
       "1  9eba8f80e7e20f3a2f48685530748fbfa95943e4   \n",
       "2  fe809672251f6bd0d986e00380f48d047c7e7b76   \n",
       "3  bd22104dfa9ec80db4099523e03fae7a52735eb6   \n",
       "4  b227688381f9b25e5b65109dd00f7f895e838249   \n",
       "\n",
       "                                        lowered_text  \\\n",
       "0  autoimmune diseases tend to come in clusters. ...   \n",
       "1  i can completely understand why you’d want to ...   \n",
       "2  interesting that it only targets s1p-1/5 recep...   \n",
       "3  very interesting, grand merci. now i wonder wh...   \n",
       "4  hi everybody, my latest mri results for brain ...   \n",
       "\n",
       "                                        treated_text  \n",
       "0  autoimmune diseases tend to come in clusters ....  \n",
       "1  i can completely understand why you would want...  \n",
       "2  interesting that it only targets s1p  -  1  / ...  \n",
       "3  very interesting ,  grand merci .  now i wonde...  \n",
       "4  hi everybody ,  my latest mri results for brai...  "
      ]
     },
     "execution_count": 42,
     "metadata": {},
     "output_type": "execute_result"
    }
   ],
   "source": [
    "data.head()"
   ]
  },
  {
   "cell_type": "code",
   "execution_count": 43,
   "metadata": {},
   "outputs": [],
   "source": [
    "# le=LabelEncoder()\n",
    "# data['drug']=le.fit_transform(data['drug'])"
   ]
  },
  {
   "cell_type": "code",
   "execution_count": 44,
   "metadata": {},
   "outputs": [],
   "source": [
    "# cols=['treated_text','num_words','num_sentences','num_punctuation','num_unique_words','num_capital','drug']\n",
    "train=data.loc[:ntrain-1,'text']\n",
    "target=data.loc[:ntrain-1,'sentiment'].astype(int)\n",
    "test=data.loc[ntrain: ,'text']"
   ]
  },
  {
   "cell_type": "code",
   "execution_count": 45,
   "metadata": {},
   "outputs": [],
   "source": [
    "# target=to_categorical(target)"
   ]
  },
  {
   "cell_type": "code",
   "execution_count": 46,
   "metadata": {},
   "outputs": [],
   "source": [
    "train=train.sample(frac=1).reset_index(drop=True)"
   ]
  },
  {
   "cell_type": "code",
   "execution_count": 47,
   "metadata": {},
   "outputs": [
    {
     "name": "stdout",
     "output_type": "stream",
     "text": [
      "(2924,) (2924, 3)\n"
     ]
    }
   ],
   "source": [
    "print(test.shape, testdf.shape)"
   ]
  },
  {
   "cell_type": "code",
   "execution_count": 48,
   "metadata": {},
   "outputs": [
    {
     "data": {
      "text/plain": [
       "0    Glad to hear it works for you. It was pretty m...\n",
       "1    Hi Kegles! I am so sorry you are dealing with ...\n",
       "2    Did the doctors say why they don't think you c...\n",
       "3    Thanks for the heads up Marco. This is very in...\n",
       "4    UPDATE: I saw IBD Specialist yesterday for my ...\n",
       "Name: text, dtype: object"
      ]
     },
     "execution_count": 48,
     "metadata": {},
     "output_type": "execute_result"
    }
   ],
   "source": [
    "train.head()"
   ]
  },
  {
   "cell_type": "code",
   "execution_count": 49,
   "metadata": {},
   "outputs": [],
   "source": [
    "max_len=300"
   ]
  },
  {
   "cell_type": "code",
   "execution_count": 50,
   "metadata": {},
   "outputs": [],
   "source": [
    "# def get_data(train,test):\n",
    "#     tk=Tokenizer()\n",
    "#     tk.fit_on_texts(list(train['treated_text'].values)+list(test['treated_text'].values))\n",
    "#     train['treated_text']=tk.texts_to_sequences(train['treated_text'])\n",
    "#     test['treated_text']=tk.texts_to_sequences(test['treated_text'])\n",
    "#     train_pad=pad_sequences(train['treated_text'],maxlen=max_len)\n",
    "#     test_pad=pad_sequences(test['treated_text'],maxlen=max_len)\n",
    "#     return train_pad, test_pad , tk.word_index"
   ]
  },
  {
   "cell_type": "code",
   "execution_count": 51,
   "metadata": {},
   "outputs": [],
   "source": [
    "# max_features=30000\n",
    "def get_data(train,test):\n",
    "    tk=Tokenizer()\n",
    "    tk.fit_on_texts(list(train.values)+list(test.values))\n",
    "    train=tk.texts_to_sequences(train)\n",
    "    test=tk.texts_to_sequences(test)\n",
    "    train_pad=pad_sequences(train,maxlen=max_len)\n",
    "    test_pad=pad_sequences(test,maxlen=max_len)\n",
    "    return train_pad, test_pad , tk.word_index"
   ]
  },
  {
   "cell_type": "code",
   "execution_count": 52,
   "metadata": {},
   "outputs": [],
   "source": [
    "train_pad,test_pad,word_index=get_data(train,test)"
   ]
  },
  {
   "cell_type": "code",
   "execution_count": 53,
   "metadata": {},
   "outputs": [],
   "source": [
    "def get_embeddings(vocab,word_index,file):\n",
    "    def get_coefs(word,*arr): \n",
    "        return word, np.asarray(arr, dtype='float32')\n",
    "    \n",
    "    if file == '../input/quoratextemb/embeddings/wiki-news-300d-1M/wiki-news-300d-1M.vec':\n",
    "        embeddings_index = dict(get_coefs(*o.split(\" \")) for o in open(file) if len(o)>100)\n",
    "    else:\n",
    "        embeddings_index = dict(get_coefs(*o.split(\" \")) for o in open(file, encoding='latin'))\n",
    "    \n",
    "    add_lower(embeddings_index, vocab)\n",
    "    embedding_stack=np.stack(embeddings_index.values())\n",
    "    embed_mean,embed_std=embedding_stack.mean(),embedding_stack.std()\n",
    "    embedding_matrix=np.random.normal(embed_mean,embed_std,(len(word_index),embedding_stack.shape[1]))\n",
    "    \n",
    "    for word,i in word_index.items():\n",
    "        if i>=len(word_index):\n",
    "            continue\n",
    "        embedding_vec=embeddings_index.get(word)\n",
    "        if embedding_vec is not None:\n",
    "            embedding_matrix[i]=embedding_vec\n",
    "            \n",
    "    return embedding_matrix"
   ]
  },
  {
   "cell_type": "code",
   "execution_count": 54,
   "metadata": {},
   "outputs": [],
   "source": [
    "# train=train.drop('treated_text',axis=1)\n",
    "# test=test.drop('treated_text',axis=1)"
   ]
  },
  {
   "cell_type": "code",
   "execution_count": 55,
   "metadata": {},
   "outputs": [],
   "source": [
    "# def get_embeddings(embedding_index):\n",
    "#     embedding_stack=np.stack(embedding_index.values())\n",
    "#     embed_mean,embed_std=embedding_stack.mean(),embedding_stack.std()\n",
    "#     embedding_matrix=np.random.normal(embed_mean,embed_std,(len(word_index),embedding_stack.shape[1]))\n",
    "    \n",
    "#     for word,i in word_index.items():\n",
    "#         if i>=len(word_index):\n",
    "#             continue\n",
    "#         embedding_vec=embedding_index.get(word)\n",
    "#         if embedding_vec is not None:\n",
    "#             embedding_matrix[i]=embedding_vec\n",
    "            \n",
    "#     return embedding_matrix"
   ]
  },
  {
   "cell_type": "code",
   "execution_count": 56,
   "metadata": {},
   "outputs": [
    {
     "name": "stdout",
     "output_type": "stream",
     "text": [
      "Added 1 words to embedding\n"
     ]
    },
    {
     "name": "stderr",
     "output_type": "stream",
     "text": [
      "/opt/conda/lib/python3.6/site-packages/ipykernel_launcher.py:11: FutureWarning: arrays to stack must be passed as a \"sequence\" type such as list or tuple. Support for non-sequence iterables such as generators is deprecated as of NumPy 1.16 and will raise an error in the future.\n",
      "  # This is added back by InteractiveShellApp.init_path()\n"
     ]
    },
    {
     "name": "stdout",
     "output_type": "stream",
     "text": [
      "Added 2426 words to embedding\n"
     ]
    }
   ],
   "source": [
    "paragram_matrix=get_embeddings(vocab,word_index,paragram_path)\n",
    "glove_matrix=get_embeddings(vocab,word_index,glove_path)\n",
    "\n",
    "\n",
    "\n",
    "\n"
   ]
  },
  {
   "cell_type": "code",
   "execution_count": 57,
   "metadata": {},
   "outputs": [],
   "source": [
    "embedding_matrix=np.concatenate((paragram_matrix,glove_matrix),axis=1)"
   ]
  },
  {
   "cell_type": "code",
   "execution_count": 58,
   "metadata": {},
   "outputs": [
    {
     "data": {
      "text/plain": [
       "600"
      ]
     },
     "execution_count": 58,
     "metadata": {},
     "output_type": "execute_result"
    }
   ],
   "source": [
    "embedding_matrix.shape[1]"
   ]
  },
  {
   "cell_type": "code",
   "execution_count": 59,
   "metadata": {},
   "outputs": [],
   "source": [
    "from keras import backend as K\n",
    "\n",
    "def f1(y_true, y_pred):\n",
    "    def recall(y_true, y_pred):\n",
    "        \"\"\"Recall metric.\n",
    "\n",
    "        Only computes a batch-wise average of recall.\n",
    "\n",
    "        Computes the recall, a metric for multi-label classification of\n",
    "        how many relevant items are selected.\n",
    "        \"\"\"\n",
    "        true_positives = K.sum(K.round(K.clip(y_true * y_pred, 0, 1)))\n",
    "        possible_positives = K.sum(K.round(K.clip(y_true, 0, 1)))\n",
    "        recall = true_positives / (possible_positives + K.epsilon())\n",
    "        return recall\n",
    "\n",
    "    def precision(y_true, y_pred):\n",
    "        \"\"\"Precision metric.\n",
    "\n",
    "        Only computes a batch-wise average of precision.\n",
    "\n",
    "        Computes the precision, a metric for multi-label classification of\n",
    "        how many selected items are relevant.\n",
    "        \"\"\"\n",
    "        true_positives = K.sum(K.round(K.clip(y_true * y_pred, 0, 1)))\n",
    "        predicted_positives = K.sum(K.round(K.clip(y_pred, 0, 1)))\n",
    "        precision = true_positives / (predicted_positives + K.epsilon())\n",
    "        return precision\n",
    "    precision = precision(y_true, y_pred)\n",
    "    recall = recall(y_true, y_pred)\n",
    "    return 2*((precision*recall)/(precision+recall+K.epsilon()))"
   ]
  },
  {
   "cell_type": "code",
   "execution_count": 60,
   "metadata": {},
   "outputs": [],
   "source": [
    "embed_size=embedding_matrix.shape[1]"
   ]
  },
  {
   "cell_type": "code",
   "execution_count": 61,
   "metadata": {},
   "outputs": [],
   "source": [
    "# feature_cols=['num_words','num_sentences','num_punctuation','num_unique_words','num_capital','drug']"
   ]
  },
  {
   "cell_type": "code",
   "execution_count": 62,
   "metadata": {},
   "outputs": [],
   "source": [
    "early_stop = EarlyStopping(monitor = \"val_loss\", mode = \"min\", patience = 5,restore_best_weights=True)"
   ]
  },
  {
   "cell_type": "code",
   "execution_count": 63,
   "metadata": {},
   "outputs": [],
   "source": [
    "# def build_model(spatial_dr=0.5,units=128,dr=0,conv_size=3,kernel_size1=32,units2=64,lr=1e-3,lr_d=1e-10):\n",
    "    \n",
    "    \n",
    "#     text_input=Input(shape=(max_len,))\n",
    "#     feature_input=Input(shape=(6,))\n",
    "#     embeddings=Embedding(embedding_matrix.shape[0],embed_size,weights=[embedding_matrix],trainable=False)(text_input)\n",
    "#     x=SpatialDropout1D(spatial_dr)(embeddings)\n",
    "#     lstm=Bidirectional(CuDNNLSTM(units,return_sequences=True,kernel_initializer='he_uniform'))(x)\n",
    "#     conv1d=Conv1D(conv_size, kernel_size=kernel_size1, padding='valid', kernel_initializer='he_uniform')(lstm)\n",
    "#     global_max=GlobalMaxPooling1D()(conv1d)\n",
    "#     dense1=Dense(units2)(feature_input)\n",
    "#     concat=concatenate([global_max,dense1])\n",
    "#     dense2=Dense(units)(concat)\n",
    "#     x=Dropout(dr)(dense2)\n",
    "#     batch_norm=BatchNormalization()(x)\n",
    "#     out=Dense(3,activation='softmax')(batch_norm)\n",
    "#     model=Model(inputs=[text_input,feature_input],outputs=out)\n",
    "#     model.compile(loss='categorical_crossentropy',optimizer=Adam(lr=lr,decay=lr_d),metrics=[f1])\n",
    "  \n",
    "#     return model\n",
    "    "
   ]
  },
  {
   "cell_type": "code",
   "execution_count": 64,
   "metadata": {},
   "outputs": [],
   "source": [
    "def build_model1(gru_units=64,lstm_units=128):\n",
    "    inp=Input(shape=(max_len,))\n",
    "    embed=Embedding(embedding_matrix.shape[0],embed_size,weights=[embedding_matrix],trainable=False)(inp)\n",
    "    x=SpatialDropout1D(0.5)(embed)\n",
    "#     gru=CuDNNGRU(gru_units,return_sequences=True)(x)\n",
    "    lstm=CuDNNLSTM(lstm_units,return_sequences=True,activity_regularizer=l1(0.001))(x)\n",
    "    gap1=GlobalAveragePooling1D()(lstm)\n",
    "#     gap2=GlobalAveragePooling1D()(lstm)\n",
    "#     concat=concatenate([gap1,gap2])\n",
    "    out=Dense(3,activation='softmax')(gap1)\n",
    "    model=Model(inputs=inp,outputs=out)\n",
    "    model.compile(loss='categorical_crossentropy',optimizer=Adam(),metrics=[f1])\n",
    "    return model"
   ]
  },
  {
   "cell_type": "code",
   "execution_count": 65,
   "metadata": {},
   "outputs": [],
   "source": [
    "def build_model2(gru_units=128):\n",
    "    inp=Input(shape=(max_len,))\n",
    "    embed=Embedding(embedding_matrix.shape[0],embed_size,weights=[embedding_matrix],trainable=False)(inp)\n",
    "    x=SpatialDropout1D(0.5)(embed)\n",
    "    gru=CuDNNGRU(gru_units,return_sequences=True)(x)\n",
    "    gap1=GlobalAveragePooling1D()(gru)\n",
    "    out=Dense(3,activation='softmax')(gap1)\n",
    "    model=Model(inputs=inp,outputs=out)\n",
    "    model.compile(loss='categorical_crossentropy',optimizer=Adam(),metrics=[f1])\n",
    "    return model"
   ]
  },
  {
   "cell_type": "code",
   "execution_count": 66,
   "metadata": {},
   "outputs": [],
   "source": [
    "def build_model3(gru_units=32,lstm_units=32):\n",
    "    inp=Input(shape=(max_len,))\n",
    "    embed=Embedding(embedding_matrix.shape[0],embed_size,weights=[embedding_matrix],trainable=False)(inp)\n",
    "    x=SpatialDropout1D(0.5)(embed)\n",
    "    gru=CuDNNGRU(gru_units,return_sequences=True)(x)\n",
    "    lstm=CuDNNLSTM(lstm_units,return_sequences=True)(gru)\n",
    "    gap1=GlobalAveragePooling1D()(gru)\n",
    "    gap2=GlobalAveragePooling1D()(lstm)\n",
    "    concat=concatenate([gap1,gap2])\n",
    "    out=Dense(3,activation='softmax')(gap1)\n",
    "    model=Model(inputs=inp,outputs=out)\n",
    "    model.compile(loss='categorical_crossentropy',optimizer=Adam(),metrics=[f1])\n",
    "    return model"
   ]
  },
  {
   "cell_type": "code",
   "execution_count": 67,
   "metadata": {},
   "outputs": [],
   "source": [
    "import pandas as pd\n",
    "import numpy as np\n",
    "from sklearn.model_selection import train_test_split, StratifiedKFold\n",
    "from sklearn import metrics\n",
    "\n",
    "from keras.preprocessing.text import Tokenizer\n",
    "from keras.preprocessing.sequence import pad_sequences\n",
    "from keras.layers import *\n",
    "from keras.models import *\n",
    "from keras import initializers, regularizers, constraints, optimizers, layers\n",
    "from keras.initializers import *\n",
    "from keras.optimizers import *\n",
    "import keras.backend as K\n",
    "from keras.callbacks import *\n",
    "import tensorflow as tf\n",
    "import os\n",
    "import time\n",
    "import gc\n",
    "import re\n",
    "from keras.regularizers import l1\n",
    "import random\n",
    "from tqdm import tqdm\n",
    "tqdm.pandas()\n",
    "from nltk.stem.wordnet import WordNetLemmatizer"
   ]
  },
  {
   "cell_type": "code",
   "execution_count": 68,
   "metadata": {},
   "outputs": [],
   "source": [
    "class AttentionWeightedAverage(Layer):\n",
    "    \"\"\"\n",
    "    Computes a weighted average of the different channels across timesteps.\n",
    "    Uses 1 parameter pr. channel to compute the attention value for a single timestep.\n",
    "    \"\"\"\n",
    "\n",
    "    def __init__(self, return_attention=False, **kwargs):\n",
    "        self.init = initializers.RandomUniform(seed=10000)\n",
    "        self.supports_masking = True\n",
    "        self.return_attention = return_attention\n",
    "        super(AttentionWeightedAverage, self).__init__(** kwargs)\n",
    "\n",
    "    def build(self, input_shape):\n",
    "        self.input_spec = [InputSpec(ndim=3)]\n",
    "        assert len(input_shape) == 3\n",
    "\n",
    "        self.W = self.add_weight(shape=(input_shape[2], 1),\n",
    "                                 name='{}_W'.format(self.name),\n",
    "                                 initializer=self.init)\n",
    "        self.trainable_weights = [self.W]\n",
    "        super(AttentionWeightedAverage, self).build(input_shape)\n",
    "\n",
    "    def call(self, x, mask=None):\n",
    "        # computes a probability distribution over the timesteps\n",
    "        # uses 'max trick' for numerical stability\n",
    "        # reshape is done to avoid issue with Tensorflow\n",
    "        # and 1-dimensional weights\n",
    "        logits = K.dot(x, self.W)\n",
    "        x_shape = K.shape(x)\n",
    "        logits = K.reshape(logits, (x_shape[0], x_shape[1]))\n",
    "        ai = K.exp(logits - K.max(logits, axis=-1, keepdims=True))\n",
    "\n",
    "        # masked timesteps have zero weight\n",
    "        if mask is not None:\n",
    "            mask = K.cast(mask, K.floatx())\n",
    "            ai = ai * mask\n",
    "        att_weights = ai / (K.sum(ai, axis=1, keepdims=True) + K.epsilon())\n",
    "        weighted_input = x * K.expand_dims(att_weights)\n",
    "        result = K.sum(weighted_input, axis=1)\n",
    "        if self.return_attention:\n",
    "            return [result, att_weights]\n",
    "        return result\n",
    "\n",
    "    def get_output_shape_for(self, input_shape):\n",
    "        return self.compute_output_shape(input_shape)\n",
    "\n",
    "    def compute_output_shape(self, input_shape):\n",
    "        output_len = input_shape[2]\n",
    "        if self.return_attention:\n",
    "            return [(input_shape[0], output_len), (input_shape[0], input_shape[1])]\n",
    "        return (input_shape[0], output_len)\n",
    "\n",
    "    def compute_mask(self, input, input_mask=None):\n",
    "        if isinstance(input_mask, list):\n",
    "            return [None] * len(input_mask)\n",
    "        else:\n",
    "            return None"
   ]
  },
  {
   "cell_type": "code",
   "execution_count": 69,
   "metadata": {},
   "outputs": [],
   "source": [
    "def build_model4(gru_units=32):\n",
    "    inp=Input(shape=(max_len,))\n",
    "    embed=Embedding(embedding_matrix.shape[0],embed_size,weights=[embedding_matrix],trainable=False)(inp)\n",
    "    x=SpatialDropout1D(0.5)(embed)\n",
    "    gru=CuDNNGRU(gru_units,return_sequences=True,activity_regularizer=l1(0.001))(x)\n",
    "    last = Lambda(lambda t: t[:, -1], name='last')(gru)\n",
    "    maxpool = GlobalMaxPooling1D()(gru)\n",
    "    attn = AttentionWeightedAverage()(gru)\n",
    "    c = concatenate([last, maxpool, attn], axis=1)\n",
    "    c = Reshape((3, -1))(c)\n",
    "    c = Lambda(lambda x:K.sum(x, axis=1))(c)\n",
    "    x = BatchNormalization()(c)\n",
    "    x = Dense(200, activation='relu', kernel_initializer=glorot_uniform(seed=111000))(x)\n",
    "    x = Dropout(0.2, seed=1024)(x)\n",
    "    x = BatchNormalization()(x)\n",
    "    output_layer = Dense(3, activation=\"softmax\")(x)\n",
    "    model=Model(inputs=inp,outputs=output_layer)\n",
    "    model.compile(loss='categorical_crossentropy',optimizer=Adam(),metrics=[f1])\n",
    "    return model"
   ]
  },
  {
   "cell_type": "code",
   "execution_count": 70,
   "metadata": {},
   "outputs": [],
   "source": [
    "def build_model5(spatialdropout=0.2, rnn_units=128, filters=[100, 80, 30, 12], weight_decay=0.10):\n",
    "    K.clear_session()       \n",
    "    inp = Input(shape=(max_len,))\n",
    "    x = Embedding(embedding_matrix.shape[0], embed_size, weights=[embedding_matrix], trainable=False)(inp)\n",
    "    x = SpatialDropout1D(rate=spatialdropout, seed=10000)(x)\n",
    "    x = CuDNNLSTM(rnn_units, return_sequences=True, \n",
    "                               kernel_initializer=glorot_uniform(seed=111000), \n",
    "                               recurrent_initializer=Orthogonal(gain=1.0, seed=123000))(x)\n",
    "\n",
    "    x1 = Conv1D(filters=filters[0], activation='relu', kernel_size=1, \n",
    "                padding='same', kernel_initializer=glorot_uniform(seed=110000))(x)\n",
    "    x2 = Conv1D(filters=filters[1], activation='relu', kernel_size=2, \n",
    "                padding='same', kernel_initializer=glorot_uniform(seed=120000))(x)\n",
    "    x3 = Conv1D(filters=filters[2], activation='relu', kernel_size=3, \n",
    "                padding='same', kernel_initializer=glorot_uniform(seed=130000))(x)\n",
    "    x4 = Conv1D(filters=filters[3], activation='relu', kernel_size=5, \n",
    "                padding='same', kernel_initializer=glorot_uniform(seed=140000))(x)\n",
    "\n",
    "    \n",
    "    x1 = GlobalMaxPool1D()(x1)\n",
    "    x2 = GlobalMaxPool1D()(x2)\n",
    "    x3 = GlobalMaxPool1D()(x3)\n",
    "    x4 = GlobalMaxPool1D()(x4)\n",
    "\n",
    "    c = concatenate([x1, x2, x3, x4])\n",
    "    x = Dense(200, activation='relu', kernel_initializer=glorot_uniform(seed=111000))(c)\n",
    "    x = Dropout(0.2, seed=10000)(x)\n",
    "    x = BatchNormalization()(x)\n",
    "    x = Dense(3, activation=\"softmax\")(x)\n",
    "    model = Model(inputs=inp, outputs=x)\n",
    "    model.compile(loss='categorical_crossentropy', optimizer=Adam(),metrics=[f1])\n",
    "    return model"
   ]
  },
  {
   "cell_type": "code",
   "execution_count": 71,
   "metadata": {},
   "outputs": [
    {
     "name": "stdout",
     "output_type": "stream",
     "text": [
      "Fold: 1\n",
      "Train on 10326 samples, validate on 529 samples\n",
      "Epoch 1/1\n",
      "10326/10326 [==============================] - 6s 592us/step - loss: 192.5236 - f1: 0.0016 - val_loss: 37.1037 - val_f1: 0.0000e+00\n",
      "2924/2924 [==============================] - 0s 134us/step\n",
      "Validation f1 score is : 0.22783647179601121\n",
      "Fold: 2\n",
      "Train on 10326 samples, validate on 529 samples\n",
      "Epoch 1/1\n",
      "10326/10326 [==============================] - 3s 251us/step - loss: 42.6659 - f1: 0.0000e+00 - val_loss: 16.5884 - val_f1: 0.0000e+00\n",
      "2924/2924 [==============================] - 0s 132us/step\n",
      "Validation f1 score is : 0.11649403702195364\n",
      "Fold: 3\n",
      "Train on 10326 samples, validate on 529 samples\n",
      "Epoch 1/1\n",
      "10326/10326 [==============================] - 3s 250us/step - loss: 20.6327 - f1: 0.0000e+00 - val_loss: 8.1830 - val_f1: 0.0000e+00\n",
      "2924/2924 [==============================] - 0s 134us/step\n",
      "Validation f1 score is : 0.09881122094464528\n",
      "Fold: 4\n",
      "Train on 10326 samples, validate on 529 samples\n",
      "Epoch 1/1\n",
      "10326/10326 [==============================] - 3s 250us/step - loss: 10.2177 - f1: 0.0000e+00 - val_loss: 3.8758 - val_f1: 0.0000e+00\n",
      "2924/2924 [==============================] - 0s 133us/step\n",
      "Validation f1 score is : 0.10362735698306168\n",
      "Fold: 5\n",
      "Train on 10326 samples, validate on 529 samples\n",
      "Epoch 1/1\n",
      "10326/10326 [==============================] - 3s 250us/step - loss: 4.9846 - f1: 0.0000e+00 - val_loss: 2.2950 - val_f1: 0.0000e+00\n",
      "2924/2924 [==============================] - 0s 133us/step\n",
      "Validation f1 score is : 0.12317204759065224\n",
      "Fold: 6\n",
      "Train on 10329 samples, validate on 528 samples\n",
      "Epoch 1/1\n",
      "10329/10329 [==============================] - 3s 249us/step - loss: 2.6196 - f1: 0.0000e+00 - val_loss: 1.5982 - val_f1: 0.0000e+00\n",
      "1216/2924 [===========>..................] - ETA: 0s"
     ]
    },
    {
     "name": "stderr",
     "output_type": "stream",
     "text": [
      "/opt/conda/lib/python3.6/site-packages/sklearn/metrics/classification.py:1437: UndefinedMetricWarning: F-score is ill-defined and being set to 0.0 in labels with no predicted samples.\n",
      "  'precision', 'predicted', average, warn_for)\n"
     ]
    },
    {
     "name": "stdout",
     "output_type": "stream",
     "text": [
      "2924/2924 [==============================] - 0s 133us/step\n",
      "Validation f1 score is : 0.0905757984705353\n",
      "Fold: 7\n",
      "Train on 10329 samples, validate on 528 samples\n",
      "Epoch 1/1\n",
      "10329/10329 [==============================] - 3s 250us/step - loss: 1.7114 - f1: 0.0000e+00 - val_loss: 1.3538 - val_f1: 0.0000e+00\n",
      "1216/2924 [===========>..................] - ETA: 0s"
     ]
    },
    {
     "name": "stderr",
     "output_type": "stream",
     "text": [
      "/opt/conda/lib/python3.6/site-packages/sklearn/metrics/classification.py:1437: UndefinedMetricWarning: F-score is ill-defined and being set to 0.0 in labels with no predicted samples.\n",
      "  'precision', 'predicted', average, warn_for)\n"
     ]
    },
    {
     "name": "stdout",
     "output_type": "stream",
     "text": [
      "2924/2924 [==============================] - 0s 132us/step\n",
      "Validation f1 score is : 0.07005649717514124\n",
      "Fold: 8\n",
      "Train on 10329 samples, validate on 526 samples\n",
      "Epoch 1/1\n",
      "10329/10329 [==============================] - 3s 249us/step - loss: 1.4278 - f1: 0.0000e+00 - val_loss: 1.2735 - val_f1: 0.0000e+00\n",
      "1216/2924 [===========>..................] - ETA: 0s"
     ]
    },
    {
     "name": "stderr",
     "output_type": "stream",
     "text": [
      "/opt/conda/lib/python3.6/site-packages/sklearn/metrics/classification.py:1437: UndefinedMetricWarning: F-score is ill-defined and being set to 0.0 in labels with no predicted samples.\n",
      "  'precision', 'predicted', average, warn_for)\n"
     ]
    },
    {
     "name": "stdout",
     "output_type": "stream",
     "text": [
      "2924/2924 [==============================] - 0s 132us/step\n",
      "Validation f1 score is : 0.09085933223864258\n",
      "Fold: 9\n",
      "Train on 10329 samples, validate on 526 samples\n",
      "Epoch 1/1\n",
      "10329/10329 [==============================] - 3s 249us/step - loss: 1.3539 - f1: 0.0000e+00 - val_loss: 1.2568 - val_f1: 0.0000e+00\n",
      "1216/2924 [===========>..................] - ETA: 0s"
     ]
    },
    {
     "name": "stderr",
     "output_type": "stream",
     "text": [
      "/opt/conda/lib/python3.6/site-packages/sklearn/metrics/classification.py:1437: UndefinedMetricWarning: F-score is ill-defined and being set to 0.0 in labels with no predicted samples.\n",
      "  'precision', 'predicted', average, warn_for)\n"
     ]
    },
    {
     "name": "stdout",
     "output_type": "stream",
     "text": [
      "2924/2924 [==============================] - 0s 135us/step\n",
      "Validation f1 score is : 0.06927881885292449\n",
      "Fold: 10\n",
      "Train on 10329 samples, validate on 526 samples\n",
      "Epoch 1/1\n",
      "10329/10329 [==============================] - 3s 250us/step - loss: 1.3309 - f1: 0.0000e+00 - val_loss: 1.2633 - val_f1: 0.0000e+00\n",
      "1216/2924 [===========>..................] - ETA: 0s"
     ]
    },
    {
     "name": "stderr",
     "output_type": "stream",
     "text": [
      "/opt/conda/lib/python3.6/site-packages/sklearn/metrics/classification.py:1437: UndefinedMetricWarning: F-score is ill-defined and being set to 0.0 in labels with no predicted samples.\n",
      "  'precision', 'predicted', average, warn_for)\n"
     ]
    },
    {
     "name": "stdout",
     "output_type": "stream",
     "text": [
      "2924/2924 [==============================] - 0s 133us/step\n",
      "Validation f1 score is : 0.10077139162616489\n",
      "****************************************************************************************************\n",
      "Mean of all validation f1 scores: 0.10914829726997326\n",
      "****************************************************************************************************\n",
      "Fold: 1\n",
      "Train on 10326 samples, validate on 529 samples\n",
      "Epoch 1/1\n",
      "10326/10326 [==============================] - 4s 378us/step - loss: 783.8074 - f1: 0.3008 - val_loss: 187.7432 - val_f1: 0.2279\n",
      "2924/2924 [==============================] - 0s 134us/step\n",
      "Validation f1 score is : 0.32468107477595143\n",
      "Fold: 2\n",
      "Train on 10326 samples, validate on 529 samples\n",
      "Epoch 1/1\n",
      "10326/10326 [==============================] - 3s 242us/step - loss: 236.6431 - f1: 0.2429 - val_loss: 81.9789 - val_f1: 0.0220\n",
      "2924/2924 [==============================] - 0s 133us/step\n",
      "Validation f1 score is : 0.1775945105059029\n",
      "Fold: 3\n",
      "Train on 10326 samples, validate on 529 samples\n",
      "Epoch 1/1\n",
      "10326/10326 [==============================] - 2s 241us/step - loss: 98.5182 - f1: 0.2145 - val_loss: 26.0051 - val_f1: 0.0000e+00\n",
      "1280/2924 [============>.................] - ETA: 0s"
     ]
    },
    {
     "name": "stderr",
     "output_type": "stream",
     "text": [
      "/opt/conda/lib/python3.6/site-packages/sklearn/metrics/classification.py:1437: UndefinedMetricWarning: F-score is ill-defined and being set to 0.0 in labels with no predicted samples.\n",
      "  'precision', 'predicted', average, warn_for)\n"
     ]
    },
    {
     "name": "stdout",
     "output_type": "stream",
     "text": [
      "2924/2924 [==============================] - 0s 131us/step\n",
      "Validation f1 score is : 0.13455263939136966\n",
      "Fold: 4\n",
      "Train on 10326 samples, validate on 529 samples\n",
      "Epoch 1/1\n",
      "10326/10326 [==============================] - 2s 241us/step - loss: 27.8799 - f1: 0.1720 - val_loss: 12.3708 - val_f1: 0.0000e+00\n",
      "1216/2924 [===========>..................] - ETA: 0s"
     ]
    },
    {
     "name": "stderr",
     "output_type": "stream",
     "text": [
      "/opt/conda/lib/python3.6/site-packages/sklearn/metrics/classification.py:1437: UndefinedMetricWarning: F-score is ill-defined and being set to 0.0 in labels with no predicted samples.\n",
      "  'precision', 'predicted', average, warn_for)\n"
     ]
    },
    {
     "name": "stdout",
     "output_type": "stream",
     "text": [
      "2924/2924 [==============================] - 0s 131us/step\n",
      "Validation f1 score is : 0.0837381488525976\n",
      "Fold: 5\n",
      "Train on 10326 samples, validate on 529 samples\n",
      "Epoch 1/1\n",
      "10326/10326 [==============================] - 2s 241us/step - loss: 11.1800 - f1: 0.1717 - val_loss: 8.1104 - val_f1: 0.0000e+00\n",
      "1216/2924 [===========>..................] - ETA: 0s"
     ]
    },
    {
     "name": "stderr",
     "output_type": "stream",
     "text": [
      "/opt/conda/lib/python3.6/site-packages/sklearn/metrics/classification.py:1437: UndefinedMetricWarning: F-score is ill-defined and being set to 0.0 in labels with no predicted samples.\n",
      "  'precision', 'predicted', average, warn_for)\n"
     ]
    },
    {
     "name": "stdout",
     "output_type": "stream",
     "text": [
      "2924/2924 [==============================] - 0s 132us/step\n",
      "Validation f1 score is : 0.3171176011349613\n",
      "Fold: 6\n",
      "Train on 10329 samples, validate on 528 samples\n",
      "Epoch 1/1\n",
      "10329/10329 [==============================] - 2s 239us/step - loss: 8.3589 - f1: 0.1231 - val_loss: 6.3908 - val_f1: 0.0038\n",
      "2924/2924 [==============================] - 0s 132us/step\n",
      "Validation f1 score is : 0.27814569536423844\n",
      "Fold: 7\n",
      "Train on 10329 samples, validate on 528 samples\n",
      "Epoch 1/1\n",
      "10329/10329 [==============================] - 2s 241us/step - loss: 7.2797 - f1: 0.1120 - val_loss: 5.1797 - val_f1: 0.0000e+00\n",
      "2924/2924 [==============================] - 0s 132us/step\n",
      "Validation f1 score is : 0.16741866381041637\n",
      "Fold: 8\n",
      "Train on 10329 samples, validate on 526 samples\n",
      "Epoch 1/1\n",
      "10329/10329 [==============================] - 2s 239us/step - loss: 6.6648 - f1: 0.0910 - val_loss: 5.2437 - val_f1: 0.0038\n",
      "2924/2924 [==============================] - 0s 132us/step\n",
      "Validation f1 score is : 0.2853743219045917\n",
      "Fold: 9\n",
      "Train on 10329 samples, validate on 526 samples\n",
      "Epoch 1/1\n",
      "10329/10329 [==============================] - 2s 241us/step - loss: 6.6457 - f1: 0.0918 - val_loss: 5.4500 - val_f1: 0.0150\n",
      "2924/2924 [==============================] - 0s 132us/step\n",
      "Validation f1 score is : 0.2304569188900608\n",
      "Fold: 10\n",
      "Train on 10329 samples, validate on 526 samples\n",
      "Epoch 1/1\n",
      "10329/10329 [==============================] - 2s 241us/step - loss: 6.3143 - f1: 0.0879 - val_loss: 4.8765 - val_f1: 0.0224\n",
      "2924/2924 [==============================] - 0s 130us/step\n",
      "Validation f1 score is : 0.3035226599583035\n",
      "****************************************************************************************************\n",
      "Mean of all validation f1 scores: 0.2302602234588394\n",
      "****************************************************************************************************\n"
     ]
    }
   ],
   "source": [
    "from sklearn.model_selection import StratifiedKFold\n",
    "from sklearn.metrics import f1_score\n",
    "\n",
    "\n",
    "n_folds=10\n",
    "skf=StratifiedKFold(n_splits=n_folds,random_state=5,shuffle=True)\n",
    "oof_model1=np.zeros((train_pad.shape[0],3))\n",
    "oof_model4=np.zeros((train_pad.shape[0],3))\n",
    "test_pred_model1=np.zeros((test_pad.shape[0],3))\n",
    "test_pred_model4=np.zeros((test_pad.shape[0],3))\n",
    "smote=SMOTE(random_state=5)\n",
    "scores_df=[]\n",
    "units=[(32,32)]\n",
    "\n",
    "\n",
    "for model in [build_model1(32),build_model4(128)]:\n",
    "    all_scores=[]\n",
    "    for fold,(train_idx,val_idx) in enumerate(skf.split(train_pad,target)):\n",
    "        print('Fold:',fold+1)\n",
    "    \n",
    "        ohe_target=to_categorical(target)\n",
    "        train_X,val_X=train_pad[train_idx],train_pad[val_idx]\n",
    "        train_y,val_y=ohe_target[train_idx],ohe_target[val_idx]\n",
    "    \n",
    "        train_Xsampled,train_ysampled=smote.fit_sample(train_X,train_y)\n",
    "        model=model\n",
    "        history=model.fit(train_Xsampled,train_ysampled,batch_size=128,epochs=1,verbose=1,validation_data=(val_X,val_y))\n",
    "    \n",
    "        val_pred=np.argmax(model.predict(val_X,batch_size=64),axis=1)\n",
    "        if model==build_model1(32):\n",
    "            oof_model1[val_idx]=model.predict(val_X,batch_size=64)\n",
    "            true_y=np.argmax(val_y,axis=1)\n",
    "            score=f1_score(true_y,val_pred,average='macro')\n",
    "            pred=model.predict(test_pad,batch_size=64,verbose=1)\n",
    "            test_pred_model1+=pred/n_folds\n",
    "        else:\n",
    "            oof_model4[val_idx]=model.predict(val_X,batch_size=64)\n",
    "            true_y=np.argmax(val_y,axis=1)\n",
    "            score=f1_score(true_y,val_pred,average='macro')\n",
    "            pred=model.predict(test_pad,batch_size=64,verbose=1)\n",
    "            test_pred_model4+=pred/n_folds\n",
    "        all_scores.append(score)\n",
    "        print('Validation f1 score is :',score)\n",
    "    print('*'*100)\n",
    "    print('Mean of all validation f1 scores:',np.mean(all_scores))\n",
    "    print('*'*100)"
   ]
  },
  {
   "cell_type": "code",
   "execution_count": 72,
   "metadata": {},
   "outputs": [],
   "source": [
    "oof=0.7*oof_model4 + 0.3*oof_model1\n",
    "oof=np.argmax(oof,axis=1)\n",
    "\n",
    "test_pred=0.7*test_pred_model4 + 0.3*test_pred_model1\n",
    "predictions=np.argmax(test_pred,axis=1).astype(int)"
   ]
  },
  {
   "cell_type": "code",
   "execution_count": 73,
   "metadata": {},
   "outputs": [],
   "source": [
    "predictions1=np.zeros((len(test_pred),3),dtype=np.float32)\n",
    "vector1=[8.56,6.31,1.38]\n",
    "for i in range(len(test_pred)):\n",
    "    for j in range(3):\n",
    "        predictions1[i][j]=vector1[j]*test_pred[i][j]"
   ]
  },
  {
   "cell_type": "code",
   "execution_count": 74,
   "metadata": {},
   "outputs": [],
   "source": [
    "predictions2=np.zeros((len(test_pred),3), dtype=np.float32)\n",
    "vector2=[7.56,5.31,1.38]\n",
    "for i in range(len(test_pred)):\n",
    "    for j in range(3):\n",
    "        predictions2[i][j]=vector2[j]*test_pred[i][j]"
   ]
  },
  {
   "cell_type": "code",
   "execution_count": 75,
   "metadata": {},
   "outputs": [],
   "source": [
    "predictions3=np.zeros((len(test_pred),3), dtype=np.float32)\n",
    "vector3=[7.56,5.31,1.38]\n",
    "for i in range(len(test_pred)):\n",
    "    for j in range(3):\n",
    "        predictions3[i][j]=vector3[j]*test_pred[i][j]"
   ]
  },
  {
   "cell_type": "code",
   "execution_count": 76,
   "metadata": {},
   "outputs": [],
   "source": [
    "predictions4=np.zeros((len(test_pred),3), dtype=np.float32)\n",
    "vector4=[5,3.5,1.38]\n",
    "for i in range(len(test_pred)):\n",
    "    for j in range(3):\n",
    "        predictions4[i][j]=vector4[j]*test_pred[i][j]"
   ]
  },
  {
   "cell_type": "code",
   "execution_count": 77,
   "metadata": {},
   "outputs": [
    {
     "data": {
      "text/plain": [
       "0    2924\n",
       "dtype: int64"
      ]
     },
     "execution_count": 77,
     "metadata": {},
     "output_type": "execute_result"
    }
   ],
   "source": [
    "predictions1=pd.Series(np.argmax(predictions1,axis=1).astype(int))\n",
    "predictions1.value_counts()"
   ]
  },
  {
   "cell_type": "code",
   "execution_count": 78,
   "metadata": {},
   "outputs": [
    {
     "data": {
      "text/plain": [
       "0    2924\n",
       "dtype: int64"
      ]
     },
     "execution_count": 78,
     "metadata": {},
     "output_type": "execute_result"
    }
   ],
   "source": [
    "predictions2=pd.Series(np.argmax(predictions2,axis=1).astype(int))\n",
    "predictions2.value_counts()"
   ]
  },
  {
   "cell_type": "code",
   "execution_count": 79,
   "metadata": {},
   "outputs": [
    {
     "data": {
      "text/plain": [
       "0    2924\n",
       "dtype: int64"
      ]
     },
     "execution_count": 79,
     "metadata": {},
     "output_type": "execute_result"
    }
   ],
   "source": [
    "predictions3=pd.Series(np.argmax(predictions3,axis=1).astype(int))\n",
    "predictions3.value_counts()"
   ]
  },
  {
   "cell_type": "code",
   "execution_count": 80,
   "metadata": {},
   "outputs": [
    {
     "data": {
      "text/plain": [
       "0    2924\n",
       "dtype: int64"
      ]
     },
     "execution_count": 80,
     "metadata": {},
     "output_type": "execute_result"
    }
   ],
   "source": [
    "predictions4=pd.Series(np.argmax(predictions4,axis=1).astype(int))\n",
    "predictions4.value_counts()"
   ]
  },
  {
   "cell_type": "code",
   "execution_count": 81,
   "metadata": {},
   "outputs": [],
   "source": [
    "model1_predictions=np.argmax(test_pred_model1,axis=1)\n",
    "model4_predictions=np.argmax(test_pred_model4,axis=1)"
   ]
  },
  {
   "cell_type": "code",
   "execution_count": 82,
   "metadata": {},
   "outputs": [],
   "source": [
    "# gru_df=pd.DataFrame(scores_df,columns=['Units','Epochs','Scores'])"
   ]
  },
  {
   "cell_type": "code",
   "execution_count": 83,
   "metadata": {},
   "outputs": [],
   "source": [
    "# lstm_df=pd.DataFrame(scores_df,columns=['Units','Epochs','Scores'])"
   ]
  },
  {
   "cell_type": "code",
   "execution_count": 84,
   "metadata": {},
   "outputs": [],
   "source": [
    "# gru_df"
   ]
  },
  {
   "cell_type": "code",
   "execution_count": 85,
   "metadata": {},
   "outputs": [],
   "source": [
    "# lstm_df"
   ]
  },
  {
   "cell_type": "code",
   "execution_count": 86,
   "metadata": {},
   "outputs": [],
   "source": [
    "# Mean of all validation f1 scores: 0.3141029416408934   GRU 64 units"
   ]
  },
  {
   "cell_type": "code",
   "execution_count": 87,
   "metadata": {},
   "outputs": [],
   "source": [
    "# from sklearn.model_selection import train_test_split\n",
    "\n",
    "# train_X,val_X,train_y,val_y=train_test_split(train_pad,target,test_size=0.1,random_state=5,stratify=target)"
   ]
  },
  {
   "cell_type": "code",
   "execution_count": 88,
   "metadata": {},
   "outputs": [],
   "source": [
    "# def build_model1(lr=0.0, lr_d=0.0, units=0, spatial_dr=0.0, kernel_size1=3, kernel_size2=2, dense_units=128, dr=0.1, conv_size=32):\n",
    "#     file_path = \"best_model.hdf5\"\n",
    "#     check_point = ModelCheckpoint(file_path, monitor = \"val_loss\", verbose = 1,\n",
    "#                                   save_best_only = True, mode = \"min\")\n",
    "#     early_stop = EarlyStopping(monitor = \"val_loss\", mode = \"min\", patience = 5,restore_best_weights=True)\n",
    "    \n",
    "# #     feat_inp = Input(shape = (6,))\n",
    "#     text_inp=Input(shape=(max_len,))\n",
    "#     text_embedding = Embedding(embedding_matrix.shape[0], embed_size,weights=[embedding_matrix],trainable=False)(text_inp)\n",
    "# #     drug_embedding= Embedding(train_drug.nunique()+1, drug_embed_size,input_length=1)(drug_inp)\n",
    "# #     dense1=Dense(dense_units*2)(feat_inp)\n",
    "    \n",
    "#     x1 = SpatialDropout1D(spatial_dr)(text_embedding)\n",
    "# #     x1=concatenate([x1,dense1])\n",
    "#     x_gru = Bidirectional(CuDNNGRU(units, return_sequences = True))(x1)\n",
    "#     x1 = Conv1D(conv_size, kernel_size=kernel_size1, padding='valid', kernel_initializer='he_uniform')(x_gru)\n",
    "#     avg_pool1_gru = GlobalAveragePooling1D()(x1)\n",
    "#     max_pool1_gru = GlobalMaxPooling1D()(x1)\n",
    "    \n",
    "#     x3 = Conv1D(conv_size, kernel_size=kernel_size2, padding='valid', kernel_initializer='he_uniform')(x_gru)\n",
    "#     avg_pool3_gru = GlobalAveragePooling1D()(x3)\n",
    "#     max_pool3_gru = GlobalMaxPooling1D()(x3)\n",
    "    \n",
    "#     x_lstm = Bidirectional(CuDNNLSTM(units, return_sequences = True))(x1)\n",
    "#     x1 = Conv1D(conv_size, kernel_size=kernel_size1, padding='valid', kernel_initializer='he_uniform')(x_lstm)\n",
    "#     avg_pool1_lstm = GlobalAveragePooling1D()(x1)\n",
    "#     max_pool1_lstm = GlobalMaxPooling1D()(x1)\n",
    "    \n",
    "#     x3 = Conv1D(conv_size, kernel_size=kernel_size2, padding='valid', kernel_initializer='he_uniform')(x_lstm)\n",
    "#     avg_pool3_lstm = GlobalAveragePooling1D()(x3)\n",
    "#     max_pool3_lstm = GlobalMaxPooling1D()(x3)\n",
    "    \n",
    "    \n",
    "#     x = concatenate([avg_pool1_gru, max_pool1_gru, avg_pool3_gru, max_pool3_gru,\n",
    "#                     avg_pool1_lstm, max_pool1_lstm, avg_pool3_lstm, max_pool3_lstm])\n",
    "#     x = BatchNormalization()(x)\n",
    "#     x = Dropout(dr)(Dense(dense_units, activation='relu') (x))\n",
    "#     x = BatchNormalization()(x)\n",
    "#     x = Dropout(dr)(Dense(int(dense_units / 2), activation='relu') (x))\n",
    "#     x = Dense(3, activation = \"softmax\")(x)\n",
    "#     model = Model(inputs = text_inp, outputs = x)\n",
    "#     model.compile(loss = \"categorical_crossentropy\", optimizer = Adam(lr = lr, decay = lr_d), metrics = [f1])\n",
    "#     history = model.fit(train_Xsampled, train_ysampled, batch_size = 128, epochs = 50, validation_data=(val_X,val_y), \n",
    "#                         verbose = 1, callbacks = [check_point, early_stop])\n",
    "#     return model"
   ]
  },
  {
   "cell_type": "code",
   "execution_count": 89,
   "metadata": {},
   "outputs": [],
   "source": [
    "# model1=build_model()\n",
    "# history=model1.fit([train_pad,train],target,epochs=50,batch_size=64,validation_split=0.1,verbose=1,\n",
    "#                    callbacks=[early_stop])"
   ]
  },
  {
   "cell_type": "code",
   "execution_count": 90,
   "metadata": {},
   "outputs": [
    {
     "data": {
      "text/plain": [
       "<matplotlib.axes._subplots.AxesSubplot at 0x7fe1666220f0>"
      ]
     },
     "execution_count": 90,
     "metadata": {},
     "output_type": "execute_result"
    },
    {
     "data": {
      "image/png": "[encoded data removed]",
      "text/plain": [
       "<Figure size 432x288 with 1 Axes>"
      ]
     },
     "metadata": {
      "needs_background": "light"
     },
     "output_type": "display_data"
    }
   ],
   "source": [
    "import matplotlib.pyplot as plt\n",
    "%matplotlib inline\n",
    "\n",
    "oof=pd.Series(oof)\n",
    "oof.value_counts().plot.bar()"
   ]
  },
  {
   "cell_type": "code",
   "execution_count": 91,
   "metadata": {},
   "outputs": [
    {
     "data": {
      "text/plain": [
       "<matplotlib.axes._subplots.AxesSubplot at 0x7fdcbba80320>"
      ]
     },
     "execution_count": 91,
     "metadata": {},
     "output_type": "execute_result"
    },
    {
     "data": {
      "image/png": "[encoded data removed]",
      "text/plain": [
       "<Figure size 432x288 with 1 Axes>"
      ]
     },
     "metadata": {
      "needs_background": "light"
     },
     "output_type": "display_data"
    }
   ],
   "source": [
    "predictions=pd.Series(predictions)\n",
    "predictions.value_counts().plot.bar()"
   ]
  },
  {
   "cell_type": "code",
   "execution_count": 92,
   "metadata": {},
   "outputs": [
    {
     "data": {
      "text/plain": [
       "2    1594\n",
       "0    1029\n",
       "1     301\n",
       "dtype: int64"
      ]
     },
     "execution_count": 92,
     "metadata": {},
     "output_type": "execute_result"
    }
   ],
   "source": [
    "predictions.value_counts()"
   ]
  },
  {
   "cell_type": "code",
   "execution_count": 93,
   "metadata": {},
   "outputs": [
    {
     "data": {
      "text/plain": [
       "<matplotlib.axes._subplots.AxesSubplot at 0x7fdcbba63208>"
      ]
     },
     "execution_count": 93,
     "metadata": {},
     "output_type": "execute_result"
    },
    {
     "data": {
      "image/png": "[encoded data removed]",
      "text/plain": [
       "<Figure size 432x288 with 1 Axes>"
      ]
     },
     "metadata": {
      "needs_background": "light"
     },
     "output_type": "display_data"
    }
   ],
   "source": [
    "model1_predictions=pd.Series(model1_predictions)\n",
    "model1_predictions.value_counts().plot.bar()"
   ]
  },
  {
   "cell_type": "code",
   "execution_count": 94,
   "metadata": {},
   "outputs": [
    {
     "data": {
      "text/plain": [
       "0    2924\n",
       "dtype: int64"
      ]
     },
     "execution_count": 94,
     "metadata": {},
     "output_type": "execute_result"
    }
   ],
   "source": [
    "model1_predictions.value_counts()"
   ]
  },
  {
   "cell_type": "code",
   "execution_count": 95,
   "metadata": {},
   "outputs": [
    {
     "data": {
      "text/plain": [
       "<matplotlib.axes._subplots.AxesSubplot at 0x7fdcbb9c4c50>"
      ]
     },
     "execution_count": 95,
     "metadata": {},
     "output_type": "execute_result"
    },
    {
     "data": {
      "image/png": "[encoded data removed]",
      "text/plain": [
       "<Figure size 432x288 with 1 Axes>"
      ]
     },
     "metadata": {
      "needs_background": "light"
     },
     "output_type": "display_data"
    }
   ],
   "source": [
    "model4_predictions=pd.Series(model4_predictions)\n",
    "model4_predictions.value_counts().plot.bar()"
   ]
  },
  {
   "cell_type": "code",
   "execution_count": 96,
   "metadata": {},
   "outputs": [
    {
     "data": {
      "text/plain": [
       "2    1594\n",
       "0    1029\n",
       "1     301\n",
       "dtype: int64"
      ]
     },
     "execution_count": 96,
     "metadata": {},
     "output_type": "execute_result"
    }
   ],
   "source": [
    "model4_predictions.value_counts()"
   ]
  },
  {
   "cell_type": "code",
   "execution_count": 97,
   "metadata": {},
   "outputs": [],
   "source": [
    "# model2 = build_model1(lr = 1e-3, lr_d = 1e-10, units = 64, spatial_dr = 0.3, kernel_size1=3, kernel_size2=2, dense_units=32, dr=0.1, conv_size=32)"
   ]
  },
  {
   "cell_type": "code",
   "execution_count": 98,
   "metadata": {},
   "outputs": [],
   "source": [
    "sub=pd.read_csv('../input/innoplexusav/sample.csv')"
   ]
  },
  {
   "cell_type": "code",
   "execution_count": 99,
   "metadata": {},
   "outputs": [],
   "source": [
    "sub['sentiment']=predictions\n",
    "sub.to_csv('my_submission.csv',index=False)\n",
    "\n",
    "sub['sentiment']=predictions1\n",
    "sub.to_csv('my_submission1.csv',index=False)\n",
    "\n",
    "sub['sentiment']=predictions2\n",
    "sub.to_csv('my_submission2.csv',index=False)\n",
    "\n",
    "sub['sentiment']=predictions3\n",
    "sub.to_csv('my_submission3.csv',index=False)\n",
    "\n",
    "sub['sentiment']=predictions4\n",
    "sub.to_csv('my_submission4.csv',index=False)"
   ]
  }
 ],
 "metadata": {
  "kernelspec": {
   "display_name": "Python 3",
   "language": "python",
   "name": "python3"
  },
  "language_info": {
   "codemirror_mode": {
    "name": "ipython",
    "version": 3
   },
   "file_extension": ".py",
   "mimetype": "text/x-python",
   "name": "python",
   "nbconvert_exporter": "python",
   "pygments_lexer": "ipython3",
   "version": "3.6.6"
  }
 },
 "nbformat": 4,
 "nbformat_minor": 1
}
